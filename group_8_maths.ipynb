{
 "cells": [
  {
   "cell_type": "code",
   "execution_count": null,
   "metadata": {},
   "outputs": [],
   "source": [
    "#==========================================================================================================================================\n",
    "#\n",
    "#   REGLES D'UTILISATION : Créer une nouvelle cellule pour chaque ajout de code, ne pas modifier le code d'une cellule ne vous appartenant pas\n",
    "#                          Mettre votre nom au début de chaque cellule avec le numéro de la question\n",
    "#==========================================================================================================================================="
   ]
  }
 ],
 "metadata": {
  "language_info": {
   "name": "python"
  },
  "orig_nbformat": 4
 },
 "nbformat": 4,
 "nbformat_minor": 2
}
